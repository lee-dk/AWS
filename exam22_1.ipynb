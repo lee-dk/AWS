{
 "cells": [
  {
   "cell_type": "markdown",
   "metadata": {},
   "source": [
    "# 연관분석(장바구니분석)"
   ]
  },
  {
   "cell_type": "markdown",
   "metadata": {},
   "source": [
    "## 빈발항목집합을 추출하는 Apriori algorithm 의 원리"
   ]
  },
  {
   "cell_type": "markdown",
   "metadata": {},
   "source": [
    "### 최소지지도 이상을 갖는 항목집합을 빈발항목집합(frequent item set)이라고 한다.\n",
    "### 모든 항목집합에 대한 지지도를 계산하는 대신에 최소 지지도 이상의 빈발항목집합만을 찾아내서 연관규칙을 계산하는 것이 \n",
    "### Apriori algorithm의 주요 내용이다.\n",
    "\n",
    "### [ 빈발항목집합 추출의 Apriori Principle ]\n",
    "\n",
    "#### (1) 한 항목집합이 빈발(frequent)하다면 이 항목집합의 모든 부분집합은 역시 빈발항목집합이다.\n",
    "####    (frequent item sets -> next step) \n",
    "#### (2) 한 항목집합이 비비발(infrequent)하다면 이 항목집합을 포함하는 모든 집합은 비빈발항목집합이다. \n",
    "####    (superset -> pruning) "
   ]
  },
  {
   "cell_type": "markdown",
   "metadata": {},
   "source": [
    "## 지지도(support) s(X→Y) \n",
    "\n",
    "### X와 Y를 모두 포함하는 거래 수 / 전체 거래 수  \n",
    "\n",
    "## 신뢰도(Confidence) c(X→Y) \n",
    "\n",
    "### X와 Y를 모두 포함하는 거래 수 / X가 포함된 거래 수\n",
    "\n",
    "## 향상도(Lift)\n",
    "\n",
    "### 연관규칙의 신뢰도/지지도 \n"
   ]
  },
  {
   "cell_type": "markdown",
   "metadata": {},
   "source": [
    "![edu1](images/edu1.png)"
   ]
  },
  {
   "cell_type": "code",
   "execution_count": 8,
   "metadata": {},
   "outputs": [],
   "source": [
    "import pandas as pd"
   ]
  },
  {
   "cell_type": "code",
   "execution_count": 9,
   "metadata": {},
   "outputs": [],
   "source": [
    "from apyori import apriori\n",
    "\n",
    "baskets = [\n",
    "    ['Milk', 'Tea', 'Cake'],\n",
    "    ['Eggs', 'Tea', 'Cold Drink'],\n",
    "    ['Milk', 'Eggs', 'Tea', 'Cold Drink'],\n",
    "    ['Eggs', 'Cold Drink'],\n",
    "    ['Juice']\n",
    "]\n",
    "association_result = list(apriori(baskets, min_support=0.4))"
   ]
  },
  {
   "cell_type": "code",
   "execution_count": 3,
   "metadata": {},
   "outputs": [
    {
     "data": {
      "text/html": [
       "<div>\n",
       "<style scoped>\n",
       "    .dataframe tbody tr th:only-of-type {\n",
       "        vertical-align: middle;\n",
       "    }\n",
       "\n",
       "    .dataframe tbody tr th {\n",
       "        vertical-align: top;\n",
       "    }\n",
       "\n",
       "    .dataframe thead th {\n",
       "        text-align: right;\n",
       "    }\n",
       "</style>\n",
       "<table border=\"1\" class=\"dataframe\">\n",
       "  <thead>\n",
       "    <tr style=\"text-align: right;\">\n",
       "      <th></th>\n",
       "      <th>source</th>\n",
       "      <th>target</th>\n",
       "      <th>support</th>\n",
       "    </tr>\n",
       "  </thead>\n",
       "  <tbody>\n",
       "    <tr>\n",
       "      <th>0</th>\n",
       "      <td>Eggs</td>\n",
       "      <td>Cold Drink</td>\n",
       "      <td>0.6</td>\n",
       "    </tr>\n",
       "    <tr>\n",
       "      <th>1</th>\n",
       "      <td>Tea</td>\n",
       "      <td>Cold Drink</td>\n",
       "      <td>0.4</td>\n",
       "    </tr>\n",
       "    <tr>\n",
       "      <th>2</th>\n",
       "      <td>Tea</td>\n",
       "      <td>Eggs</td>\n",
       "      <td>0.4</td>\n",
       "    </tr>\n",
       "    <tr>\n",
       "      <th>3</th>\n",
       "      <td>Tea</td>\n",
       "      <td>Milk</td>\n",
       "      <td>0.4</td>\n",
       "    </tr>\n",
       "  </tbody>\n",
       "</table>\n",
       "</div>"
      ],
      "text/plain": [
       "  source      target  support\n",
       "0   Eggs  Cold Drink      0.6\n",
       "1    Tea  Cold Drink      0.4\n",
       "2    Tea        Eggs      0.4\n",
       "3    Tea        Milk      0.4"
      ]
     },
     "execution_count": 3,
     "metadata": {},
     "output_type": "execute_result"
    }
   ],
   "source": [
    "columns = ['source', 'target', 'support']\n",
    "network_df = pd.DataFrame(columns=columns)\n",
    "for result in  association_result:\n",
    "    if len(result.items) == 2:\n",
    "        items = [x for x in result.items]\n",
    "        row = [items[0], items[1], result.support]\n",
    "        series = pd.Series(row, index=network_df.columns)\n",
    "        network_df = network_df.append(series, ignore_index=True)\n",
    "network_df.head(10)"
   ]
  },
  {
   "cell_type": "markdown",
   "metadata": {},
   "source": [
    "![edu1](images/edu2.png)"
   ]
  },
  {
   "cell_type": "code",
   "execution_count": 1,
   "metadata": {},
   "outputs": [],
   "source": [
    "from apyori import apriori\n",
    "\n",
    "baskets = [\n",
    "    ['Milk', 'Tea', 'Cake'],\n",
    "    ['Eggs', 'Tea', 'Cold Drink'],\n",
    "    ['Milk', 'Eggs', 'Tea', 'Cold Drink'],\n",
    "    ['Eggs', 'Cold Drink'],\n",
    "    ['Juice']\n",
    "]\n",
    "association_result = list(apriori(baskets, min_support=0.6))"
   ]
  },
  {
   "cell_type": "code",
   "execution_count": 13,
   "metadata": {},
   "outputs": [
    {
     "data": {
      "text/plain": [
       "[RelationRecord(items=frozenset({'Cold Drink'}), support=0.6, ordered_statistics=[OrderedStatistic(items_base=frozenset(), items_add=frozenset({'Cold Drink'}), confidence=0.6, lift=1.0)]),\n",
       " RelationRecord(items=frozenset({'Eggs'}), support=0.6, ordered_statistics=[OrderedStatistic(items_base=frozenset(), items_add=frozenset({'Eggs'}), confidence=0.6, lift=1.0)]),\n",
       " RelationRecord(items=frozenset({'Milk'}), support=0.4, ordered_statistics=[OrderedStatistic(items_base=frozenset(), items_add=frozenset({'Milk'}), confidence=0.4, lift=1.0)]),\n",
       " RelationRecord(items=frozenset({'Tea'}), support=0.6, ordered_statistics=[OrderedStatistic(items_base=frozenset(), items_add=frozenset({'Tea'}), confidence=0.6, lift=1.0)]),\n",
       " RelationRecord(items=frozenset({'Cold Drink', 'Eggs'}), support=0.6, ordered_statistics=[OrderedStatistic(items_base=frozenset(), items_add=frozenset({'Cold Drink', 'Eggs'}), confidence=0.6, lift=1.0), OrderedStatistic(items_base=frozenset({'Cold Drink'}), items_add=frozenset({'Eggs'}), confidence=1.0, lift=1.6666666666666667), OrderedStatistic(items_base=frozenset({'Eggs'}), items_add=frozenset({'Cold Drink'}), confidence=1.0, lift=1.6666666666666667)]),\n",
       " RelationRecord(items=frozenset({'Cold Drink', 'Tea'}), support=0.4, ordered_statistics=[OrderedStatistic(items_base=frozenset(), items_add=frozenset({'Cold Drink', 'Tea'}), confidence=0.4, lift=1.0), OrderedStatistic(items_base=frozenset({'Cold Drink'}), items_add=frozenset({'Tea'}), confidence=0.6666666666666667, lift=1.1111111111111114), OrderedStatistic(items_base=frozenset({'Tea'}), items_add=frozenset({'Cold Drink'}), confidence=0.6666666666666667, lift=1.1111111111111114)]),\n",
       " RelationRecord(items=frozenset({'Tea', 'Eggs'}), support=0.4, ordered_statistics=[OrderedStatistic(items_base=frozenset(), items_add=frozenset({'Eggs', 'Tea'}), confidence=0.4, lift=1.0), OrderedStatistic(items_base=frozenset({'Eggs'}), items_add=frozenset({'Tea'}), confidence=0.6666666666666667, lift=1.1111111111111114), OrderedStatistic(items_base=frozenset({'Tea'}), items_add=frozenset({'Eggs'}), confidence=0.6666666666666667, lift=1.1111111111111114)]),\n",
       " RelationRecord(items=frozenset({'Milk', 'Tea'}), support=0.4, ordered_statistics=[OrderedStatistic(items_base=frozenset(), items_add=frozenset({'Milk', 'Tea'}), confidence=0.4, lift=1.0), OrderedStatistic(items_base=frozenset({'Milk'}), items_add=frozenset({'Tea'}), confidence=1.0, lift=1.6666666666666667), OrderedStatistic(items_base=frozenset({'Tea'}), items_add=frozenset({'Milk'}), confidence=0.6666666666666667, lift=1.6666666666666667)]),\n",
       " RelationRecord(items=frozenset({'Cold Drink', 'Tea', 'Eggs'}), support=0.4, ordered_statistics=[OrderedStatistic(items_base=frozenset(), items_add=frozenset({'Eggs', 'Cold Drink', 'Tea'}), confidence=0.4, lift=1.0), OrderedStatistic(items_base=frozenset({'Cold Drink'}), items_add=frozenset({'Eggs', 'Tea'}), confidence=0.6666666666666667, lift=1.6666666666666667), OrderedStatistic(items_base=frozenset({'Eggs'}), items_add=frozenset({'Cold Drink', 'Tea'}), confidence=0.6666666666666667, lift=1.6666666666666667), OrderedStatistic(items_base=frozenset({'Tea'}), items_add=frozenset({'Cold Drink', 'Eggs'}), confidence=0.6666666666666667, lift=1.1111111111111114), OrderedStatistic(items_base=frozenset({'Cold Drink', 'Eggs'}), items_add=frozenset({'Tea'}), confidence=0.6666666666666667, lift=1.1111111111111114), OrderedStatistic(items_base=frozenset({'Cold Drink', 'Tea'}), items_add=frozenset({'Eggs'}), confidence=1.0, lift=1.6666666666666667), OrderedStatistic(items_base=frozenset({'Tea', 'Eggs'}), items_add=frozenset({'Cold Drink'}), confidence=1.0, lift=1.6666666666666667)])]"
      ]
     },
     "execution_count": 13,
     "metadata": {},
     "output_type": "execute_result"
    }
   ],
   "source": [
    "association_result"
   ]
  },
  {
   "cell_type": "code",
   "execution_count": 12,
   "metadata": {},
   "outputs": [
    {
     "data": {
      "text/html": [
       "<div>\n",
       "<style scoped>\n",
       "    .dataframe tbody tr th:only-of-type {\n",
       "        vertical-align: middle;\n",
       "    }\n",
       "\n",
       "    .dataframe tbody tr th {\n",
       "        vertical-align: top;\n",
       "    }\n",
       "\n",
       "    .dataframe thead th {\n",
       "        text-align: right;\n",
       "    }\n",
       "</style>\n",
       "<table border=\"1\" class=\"dataframe\">\n",
       "  <thead>\n",
       "    <tr style=\"text-align: right;\">\n",
       "      <th></th>\n",
       "      <th>source</th>\n",
       "      <th>target</th>\n",
       "      <th>support</th>\n",
       "      <th>confidence</th>\n",
       "    </tr>\n",
       "  </thead>\n",
       "  <tbody>\n",
       "    <tr>\n",
       "      <th>0</th>\n",
       "      <td>Cold Drink</td>\n",
       "      <td>Eggs</td>\n",
       "      <td>0.6</td>\n",
       "      <td>0.6</td>\n",
       "    </tr>\n",
       "    <tr>\n",
       "      <th>1</th>\n",
       "      <td>Cold Drink</td>\n",
       "      <td>Tea</td>\n",
       "      <td>0.4</td>\n",
       "      <td>0.4</td>\n",
       "    </tr>\n",
       "    <tr>\n",
       "      <th>2</th>\n",
       "      <td>Tea</td>\n",
       "      <td>Eggs</td>\n",
       "      <td>0.4</td>\n",
       "      <td>0.4</td>\n",
       "    </tr>\n",
       "    <tr>\n",
       "      <th>3</th>\n",
       "      <td>Milk</td>\n",
       "      <td>Tea</td>\n",
       "      <td>0.4</td>\n",
       "      <td>0.4</td>\n",
       "    </tr>\n",
       "  </tbody>\n",
       "</table>\n",
       "</div>"
      ],
      "text/plain": [
       "       source target  support  confidence\n",
       "0  Cold Drink   Eggs      0.6         0.6\n",
       "1  Cold Drink    Tea      0.4         0.4\n",
       "2         Tea   Eggs      0.4         0.4\n",
       "3        Milk    Tea      0.4         0.4"
      ]
     },
     "execution_count": 12,
     "metadata": {},
     "output_type": "execute_result"
    }
   ],
   "source": [
    "columns = ['source', 'target', 'support', 'confidence']\n",
    "network_df = pd.DataFrame(columns=columns)\n",
    "for result in  association_result:\n",
    "    if len(result.items) == 2:\n",
    "        items = [x for x in result.items]\n",
    "        row = [items[0], items[1], result.support, result.ordered_statistics[0].confidence]\n",
    "        series = pd.Series(row, index=network_df.columns)\n",
    "        network_df = network_df.append(series, ignore_index=True)\n",
    "network_df.head(10)"
   ]
  },
  {
   "cell_type": "code",
   "execution_count": 11,
   "metadata": {},
   "outputs": [],
   "source": [
    "from apyori import apriori\n",
    "\n",
    "baskets = [\n",
    "    ['계란', '우유'],\n",
    "    ['계란', '기저귀', '맥주', '사과'],\n",
    "    ['우유', '기저귀', '맥주', '콜라'],\n",
    "    ['계란', '우유', '맥주', '기저귀'],\n",
    "    ['계란', '우유', '멕주', '콜라']\n",
    "]\n",
    "association_result = list(apriori(baskets, min_support=0.4))"
   ]
  },
  {
   "cell_type": "code",
   "execution_count": 7,
   "metadata": {},
   "outputs": [
    {
     "data": {
      "text/plain": [
       "[RelationRecord(items=frozenset({'계란'}), support=0.8, ordered_statistics=[OrderedStatistic(items_base=frozenset(), items_add=frozenset({'계란'}), confidence=0.8, lift=1.0)]),\n",
       " RelationRecord(items=frozenset({'기저귀'}), support=0.6, ordered_statistics=[OrderedStatistic(items_base=frozenset(), items_add=frozenset({'기저귀'}), confidence=0.6, lift=1.0)]),\n",
       " RelationRecord(items=frozenset({'맥주'}), support=0.6, ordered_statistics=[OrderedStatistic(items_base=frozenset(), items_add=frozenset({'맥주'}), confidence=0.6, lift=1.0)]),\n",
       " RelationRecord(items=frozenset({'우유'}), support=0.8, ordered_statistics=[OrderedStatistic(items_base=frozenset(), items_add=frozenset({'우유'}), confidence=0.8, lift=1.0)]),\n",
       " RelationRecord(items=frozenset({'콜라'}), support=0.4, ordered_statistics=[OrderedStatistic(items_base=frozenset(), items_add=frozenset({'콜라'}), confidence=0.4, lift=1.0)]),\n",
       " RelationRecord(items=frozenset({'계란', '기저귀'}), support=0.4, ordered_statistics=[OrderedStatistic(items_base=frozenset(), items_add=frozenset({'계란', '기저귀'}), confidence=0.4, lift=1.0), OrderedStatistic(items_base=frozenset({'계란'}), items_add=frozenset({'기저귀'}), confidence=0.5, lift=0.8333333333333334), OrderedStatistic(items_base=frozenset({'기저귀'}), items_add=frozenset({'계란'}), confidence=0.6666666666666667, lift=0.8333333333333334)]),\n",
       " RelationRecord(items=frozenset({'계란', '맥주'}), support=0.4, ordered_statistics=[OrderedStatistic(items_base=frozenset(), items_add=frozenset({'계란', '맥주'}), confidence=0.4, lift=1.0), OrderedStatistic(items_base=frozenset({'계란'}), items_add=frozenset({'맥주'}), confidence=0.5, lift=0.8333333333333334), OrderedStatistic(items_base=frozenset({'맥주'}), items_add=frozenset({'계란'}), confidence=0.6666666666666667, lift=0.8333333333333334)]),\n",
       " RelationRecord(items=frozenset({'계란', '우유'}), support=0.6, ordered_statistics=[OrderedStatistic(items_base=frozenset(), items_add=frozenset({'계란', '우유'}), confidence=0.6, lift=1.0), OrderedStatistic(items_base=frozenset({'계란'}), items_add=frozenset({'우유'}), confidence=0.7499999999999999, lift=0.9374999999999998), OrderedStatistic(items_base=frozenset({'우유'}), items_add=frozenset({'계란'}), confidence=0.7499999999999999, lift=0.9374999999999998)]),\n",
       " RelationRecord(items=frozenset({'맥주', '기저귀'}), support=0.6, ordered_statistics=[OrderedStatistic(items_base=frozenset(), items_add=frozenset({'맥주', '기저귀'}), confidence=0.6, lift=1.0), OrderedStatistic(items_base=frozenset({'기저귀'}), items_add=frozenset({'맥주'}), confidence=1.0, lift=1.6666666666666667), OrderedStatistic(items_base=frozenset({'맥주'}), items_add=frozenset({'기저귀'}), confidence=1.0, lift=1.6666666666666667)]),\n",
       " RelationRecord(items=frozenset({'기저귀', '우유'}), support=0.4, ordered_statistics=[OrderedStatistic(items_base=frozenset(), items_add=frozenset({'기저귀', '우유'}), confidence=0.4, lift=1.0), OrderedStatistic(items_base=frozenset({'기저귀'}), items_add=frozenset({'우유'}), confidence=0.6666666666666667, lift=0.8333333333333334), OrderedStatistic(items_base=frozenset({'우유'}), items_add=frozenset({'기저귀'}), confidence=0.5, lift=0.8333333333333334)]),\n",
       " RelationRecord(items=frozenset({'맥주', '우유'}), support=0.4, ordered_statistics=[OrderedStatistic(items_base=frozenset(), items_add=frozenset({'맥주', '우유'}), confidence=0.4, lift=1.0), OrderedStatistic(items_base=frozenset({'맥주'}), items_add=frozenset({'우유'}), confidence=0.6666666666666667, lift=0.8333333333333334), OrderedStatistic(items_base=frozenset({'우유'}), items_add=frozenset({'맥주'}), confidence=0.5, lift=0.8333333333333334)]),\n",
       " RelationRecord(items=frozenset({'콜라', '우유'}), support=0.4, ordered_statistics=[OrderedStatistic(items_base=frozenset(), items_add=frozenset({'콜라', '우유'}), confidence=0.4, lift=1.0), OrderedStatistic(items_base=frozenset({'우유'}), items_add=frozenset({'콜라'}), confidence=0.5, lift=1.25), OrderedStatistic(items_base=frozenset({'콜라'}), items_add=frozenset({'우유'}), confidence=1.0, lift=1.25)]),\n",
       " RelationRecord(items=frozenset({'계란', '맥주', '기저귀'}), support=0.4, ordered_statistics=[OrderedStatistic(items_base=frozenset(), items_add=frozenset({'계란', '맥주', '기저귀'}), confidence=0.4, lift=1.0), OrderedStatistic(items_base=frozenset({'계란'}), items_add=frozenset({'맥주', '기저귀'}), confidence=0.5, lift=0.8333333333333334), OrderedStatistic(items_base=frozenset({'기저귀'}), items_add=frozenset({'계란', '맥주'}), confidence=0.6666666666666667, lift=1.6666666666666667), OrderedStatistic(items_base=frozenset({'맥주'}), items_add=frozenset({'계란', '기저귀'}), confidence=0.6666666666666667, lift=1.6666666666666667), OrderedStatistic(items_base=frozenset({'계란', '기저귀'}), items_add=frozenset({'맥주'}), confidence=1.0, lift=1.6666666666666667), OrderedStatistic(items_base=frozenset({'계란', '맥주'}), items_add=frozenset({'기저귀'}), confidence=1.0, lift=1.6666666666666667), OrderedStatistic(items_base=frozenset({'맥주', '기저귀'}), items_add=frozenset({'계란'}), confidence=0.6666666666666667, lift=0.8333333333333334)]),\n",
       " RelationRecord(items=frozenset({'맥주', '기저귀', '우유'}), support=0.4, ordered_statistics=[OrderedStatistic(items_base=frozenset(), items_add=frozenset({'맥주', '기저귀', '우유'}), confidence=0.4, lift=1.0), OrderedStatistic(items_base=frozenset({'기저귀'}), items_add=frozenset({'맥주', '우유'}), confidence=0.6666666666666667, lift=1.6666666666666667), OrderedStatistic(items_base=frozenset({'맥주'}), items_add=frozenset({'기저귀', '우유'}), confidence=0.6666666666666667, lift=1.6666666666666667), OrderedStatistic(items_base=frozenset({'우유'}), items_add=frozenset({'맥주', '기저귀'}), confidence=0.5, lift=0.8333333333333334), OrderedStatistic(items_base=frozenset({'맥주', '기저귀'}), items_add=frozenset({'우유'}), confidence=0.6666666666666667, lift=0.8333333333333334), OrderedStatistic(items_base=frozenset({'기저귀', '우유'}), items_add=frozenset({'맥주'}), confidence=1.0, lift=1.6666666666666667), OrderedStatistic(items_base=frozenset({'맥주', '우유'}), items_add=frozenset({'기저귀'}), confidence=1.0, lift=1.6666666666666667)])]"
      ]
     },
     "execution_count": 7,
     "metadata": {},
     "output_type": "execute_result"
    }
   ],
   "source": [
    "association_result"
   ]
  },
  {
   "cell_type": "code",
   "execution_count": 12,
   "metadata": {},
   "outputs": [
    {
     "data": {
      "text/html": [
       "<div>\n",
       "<style scoped>\n",
       "    .dataframe tbody tr th:only-of-type {\n",
       "        vertical-align: middle;\n",
       "    }\n",
       "\n",
       "    .dataframe tbody tr th {\n",
       "        vertical-align: top;\n",
       "    }\n",
       "\n",
       "    .dataframe thead th {\n",
       "        text-align: right;\n",
       "    }\n",
       "</style>\n",
       "<table border=\"1\" class=\"dataframe\">\n",
       "  <thead>\n",
       "    <tr style=\"text-align: right;\">\n",
       "      <th></th>\n",
       "      <th>source</th>\n",
       "      <th>target</th>\n",
       "      <th>support</th>\n",
       "    </tr>\n",
       "  </thead>\n",
       "  <tbody>\n",
       "    <tr>\n",
       "      <th>0</th>\n",
       "      <td>계란</td>\n",
       "      <td>기저귀</td>\n",
       "      <td>0.4</td>\n",
       "    </tr>\n",
       "    <tr>\n",
       "      <th>1</th>\n",
       "      <td>계란</td>\n",
       "      <td>맥주</td>\n",
       "      <td>0.4</td>\n",
       "    </tr>\n",
       "    <tr>\n",
       "      <th>2</th>\n",
       "      <td>계란</td>\n",
       "      <td>우유</td>\n",
       "      <td>0.6</td>\n",
       "    </tr>\n",
       "    <tr>\n",
       "      <th>3</th>\n",
       "      <td>맥주</td>\n",
       "      <td>기저귀</td>\n",
       "      <td>0.6</td>\n",
       "    </tr>\n",
       "    <tr>\n",
       "      <th>4</th>\n",
       "      <td>기저귀</td>\n",
       "      <td>우유</td>\n",
       "      <td>0.4</td>\n",
       "    </tr>\n",
       "    <tr>\n",
       "      <th>5</th>\n",
       "      <td>맥주</td>\n",
       "      <td>우유</td>\n",
       "      <td>0.4</td>\n",
       "    </tr>\n",
       "    <tr>\n",
       "      <th>6</th>\n",
       "      <td>콜라</td>\n",
       "      <td>우유</td>\n",
       "      <td>0.4</td>\n",
       "    </tr>\n",
       "  </tbody>\n",
       "</table>\n",
       "</div>"
      ],
      "text/plain": [
       "  source target  support\n",
       "0     계란    기저귀      0.4\n",
       "1     계란     맥주      0.4\n",
       "2     계란     우유      0.6\n",
       "3     맥주    기저귀      0.6\n",
       "4    기저귀     우유      0.4\n",
       "5     맥주     우유      0.4\n",
       "6     콜라     우유      0.4"
      ]
     },
     "execution_count": 12,
     "metadata": {},
     "output_type": "execute_result"
    }
   ],
   "source": [
    "columns = ['source', 'target', 'support']\n",
    "network_df = pd.DataFrame(columns=columns)\n",
    "for result in  association_result:\n",
    "    if len(result.items) == 2:\n",
    "        items = [x for x in result.items]\n",
    "        row = [items[0], items[1], result.support]\n",
    "        series = pd.Series(row, index=network_df.columns)\n",
    "        network_df = network_df.append(series, ignore_index=True)\n",
    "network_df.head(10)"
   ]
  },
  {
   "cell_type": "code",
   "execution_count": 13,
   "metadata": {},
   "outputs": [],
   "source": [
    "import pandas as pd\n",
    "from mlxtend.preprocessing import TransactionEncoder\n",
    "from mlxtend.frequent_patterns import apriori"
   ]
  },
  {
   "cell_type": "code",
   "execution_count": 15,
   "metadata": {},
   "outputs": [],
   "source": [
    "dataset= [['양말','팬티','신발'],\n",
    "         ['신발','바지','팬티','셔츠'],\n",
    "         ['모자','양말','신발'],\n",
    "         ['신발','바지','팬티','장갑']]"
   ]
  },
  {
   "cell_type": "code",
   "execution_count": 16,
   "metadata": {},
   "outputs": [
    {
     "data": {
      "text/html": [
       "<div>\n",
       "<style scoped>\n",
       "    .dataframe tbody tr th:only-of-type {\n",
       "        vertical-align: middle;\n",
       "    }\n",
       "\n",
       "    .dataframe tbody tr th {\n",
       "        vertical-align: top;\n",
       "    }\n",
       "\n",
       "    .dataframe thead th {\n",
       "        text-align: right;\n",
       "    }\n",
       "</style>\n",
       "<table border=\"1\" class=\"dataframe\">\n",
       "  <thead>\n",
       "    <tr style=\"text-align: right;\">\n",
       "      <th></th>\n",
       "      <th>모자</th>\n",
       "      <th>바지</th>\n",
       "      <th>셔츠</th>\n",
       "      <th>신발</th>\n",
       "      <th>양말</th>\n",
       "      <th>장갑</th>\n",
       "      <th>팬티</th>\n",
       "    </tr>\n",
       "  </thead>\n",
       "  <tbody>\n",
       "    <tr>\n",
       "      <th>0</th>\n",
       "      <td>False</td>\n",
       "      <td>False</td>\n",
       "      <td>False</td>\n",
       "      <td>True</td>\n",
       "      <td>True</td>\n",
       "      <td>False</td>\n",
       "      <td>True</td>\n",
       "    </tr>\n",
       "    <tr>\n",
       "      <th>1</th>\n",
       "      <td>False</td>\n",
       "      <td>True</td>\n",
       "      <td>True</td>\n",
       "      <td>True</td>\n",
       "      <td>False</td>\n",
       "      <td>False</td>\n",
       "      <td>True</td>\n",
       "    </tr>\n",
       "    <tr>\n",
       "      <th>2</th>\n",
       "      <td>True</td>\n",
       "      <td>False</td>\n",
       "      <td>False</td>\n",
       "      <td>True</td>\n",
       "      <td>True</td>\n",
       "      <td>False</td>\n",
       "      <td>False</td>\n",
       "    </tr>\n",
       "    <tr>\n",
       "      <th>3</th>\n",
       "      <td>False</td>\n",
       "      <td>True</td>\n",
       "      <td>False</td>\n",
       "      <td>True</td>\n",
       "      <td>False</td>\n",
       "      <td>True</td>\n",
       "      <td>True</td>\n",
       "    </tr>\n",
       "  </tbody>\n",
       "</table>\n",
       "</div>"
      ],
      "text/plain": [
       "      모자     바지     셔츠    신발     양말     장갑     팬티\n",
       "0  False  False  False  True   True  False   True\n",
       "1  False   True   True  True  False  False   True\n",
       "2   True  False  False  True   True  False  False\n",
       "3  False   True  False  True  False   True   True"
      ]
     },
     "execution_count": 16,
     "metadata": {},
     "output_type": "execute_result"
    }
   ],
   "source": [
    "t = TransactionEncoder()\n",
    "t_a = t.fit(dataset).transform(dataset)\n",
    "df = pd.DataFrame(t_a, columns = t.columns_)\n",
    "df"
   ]
  },
  {
   "cell_type": "code",
   "execution_count": 17,
   "metadata": {},
   "outputs": [
    {
     "data": {
      "text/html": [
       "<div>\n",
       "<style scoped>\n",
       "    .dataframe tbody tr th:only-of-type {\n",
       "        vertical-align: middle;\n",
       "    }\n",
       "\n",
       "    .dataframe tbody tr th {\n",
       "        vertical-align: top;\n",
       "    }\n",
       "\n",
       "    .dataframe thead th {\n",
       "        text-align: right;\n",
       "    }\n",
       "</style>\n",
       "<table border=\"1\" class=\"dataframe\">\n",
       "  <thead>\n",
       "    <tr style=\"text-align: right;\">\n",
       "      <th></th>\n",
       "      <th>support</th>\n",
       "      <th>itemsets</th>\n",
       "    </tr>\n",
       "  </thead>\n",
       "  <tbody>\n",
       "    <tr>\n",
       "      <th>0</th>\n",
       "      <td>0.50</td>\n",
       "      <td>(바지)</td>\n",
       "    </tr>\n",
       "    <tr>\n",
       "      <th>1</th>\n",
       "      <td>1.00</td>\n",
       "      <td>(신발)</td>\n",
       "    </tr>\n",
       "    <tr>\n",
       "      <th>2</th>\n",
       "      <td>0.50</td>\n",
       "      <td>(양말)</td>\n",
       "    </tr>\n",
       "    <tr>\n",
       "      <th>3</th>\n",
       "      <td>0.75</td>\n",
       "      <td>(팬티)</td>\n",
       "    </tr>\n",
       "    <tr>\n",
       "      <th>4</th>\n",
       "      <td>0.50</td>\n",
       "      <td>(바지, 신발)</td>\n",
       "    </tr>\n",
       "    <tr>\n",
       "      <th>5</th>\n",
       "      <td>0.50</td>\n",
       "      <td>(바지, 팬티)</td>\n",
       "    </tr>\n",
       "    <tr>\n",
       "      <th>6</th>\n",
       "      <td>0.50</td>\n",
       "      <td>(신발, 양말)</td>\n",
       "    </tr>\n",
       "    <tr>\n",
       "      <th>7</th>\n",
       "      <td>0.75</td>\n",
       "      <td>(신발, 팬티)</td>\n",
       "    </tr>\n",
       "    <tr>\n",
       "      <th>8</th>\n",
       "      <td>0.50</td>\n",
       "      <td>(바지, 신발, 팬티)</td>\n",
       "    </tr>\n",
       "  </tbody>\n",
       "</table>\n",
       "</div>"
      ],
      "text/plain": [
       "   support      itemsets\n",
       "0     0.50          (바지)\n",
       "1     1.00          (신발)\n",
       "2     0.50          (양말)\n",
       "3     0.75          (팬티)\n",
       "4     0.50      (바지, 신발)\n",
       "5     0.50      (바지, 팬티)\n",
       "6     0.50      (신발, 양말)\n",
       "7     0.75      (신발, 팬티)\n",
       "8     0.50  (바지, 신발, 팬티)"
      ]
     },
     "execution_count": 17,
     "metadata": {},
     "output_type": "execute_result"
    }
   ],
   "source": [
    "frequent = apriori(df, min_support=0.5, use_colnames=True)\n",
    "frequent"
   ]
  },
  {
   "cell_type": "code",
   "execution_count": null,
   "metadata": {},
   "outputs": [],
   "source": []
  }
 ],
 "metadata": {
  "kernelspec": {
   "display_name": "pydatavenv",
   "language": "python",
   "name": "pydatavenv"
  },
  "language_info": {
   "codemirror_mode": {
    "name": "ipython",
    "version": 3
   },
   "file_extension": ".py",
   "mimetype": "text/x-python",
   "name": "python",
   "nbconvert_exporter": "python",
   "pygments_lexer": "ipython3",
   "version": "3.7.9"
  }
 },
 "nbformat": 4,
 "nbformat_minor": 4
}
