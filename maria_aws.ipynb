{
 "cells": [
  {
   "cell_type": "markdown",
   "metadata": {},
   "source": [
    "# **pymysql을 이용한 MariaDB 연동**\n",
    "### connect() 함수를 이용하면 MySQL host내 DB와 직접 연결할 수 있다.\n",
    "\n",
    "###    user: user name\n",
    "###    passwd: 설정한 패스워드\n",
    "###    host: DB가 존재하는 host\n",
    "###    db: 연결할 데이터베이스 이름\n",
    "###    charset: 인코딩 설정"
   ]
  },
  {
   "cell_type": "code",
   "execution_count": null,
   "metadata": {},
   "outputs": [],
   "source": [
    "import pymysql\n",
    "conn = pymysql.connect(host='multi-bigdata.cljkqcsbb9ok.ap-northeast-2.rds.amazonaws.com',port=3306,user='edu',passwd='edu', db='unicodb')\n",
    "print(conn)"
   ]
  },
  {
   "cell_type": "code",
   "execution_count": null,
   "metadata": {
    "jupyter": {
     "source_hidden": true
    }
   },
   "outputs": [],
   "source": [
    "import pymysql\n",
    "conn = pymysql.connect(host='multi-bigdata.cljkqcsbb9ok.ap-northeast-2.rds.amazonaws.com',port=3306,user='edu',passwd='edu', db='unicodb')\n",
    "try:\n",
    "    cur = conn.cursor()\n",
    "    print(type(cur))\n",
    "    print(\"-----------------------\")\n",
    "    sql = 'SELECT * FROM emp'\n",
    "    cur.execute(sql)\n",
    "    result = cur.fetchall()\n",
    "    print(type(result))\n",
    "    print(result)\n",
    "    print(\"----------------------------------------------\")\n",
    "    print(type(result[0]))\n",
    "    print(result[0])\n",
    "    print(\"----------------------------------------------\")\n",
    "    print(len(result))\n",
    "    print(len(result[0]))\n",
    "    print(\"----------------------------------------------\")\n",
    "    for row in result:        \n",
    "        print(f'{row[0]} {row[1]} {row[2]} {row[3]} {row[4]} {row[5]} {row[6]} {row[7]}')\n",
    "finally:\n",
    "    conn.close()"
   ]
  },
  {
   "cell_type": "markdown",
   "metadata": {},
   "source": [
    "## Cursor 객체 생성\n",
    "### 연결한 DB와 상호작용하기 위해 cursor 객체를 생성해주어야 한다.\n",
    "### 다양한 커서의 종류가 있지만,\n",
    "### 데이터 분석가에게 익숙한 데이터프레임 형태로 결과를 쉽게 변환할 수 있도록\n",
    "### **딕셔너리** 형태로 결과를 반환해주는 **DictCursor**객체를 주로 사용한다.\n",
    "### 일반 **Cursor**객체를 사용하면 결과가 일반적으로는 **튜플** 형태로 리턴된다.\n",
    "----\n",
    "### SELECT 명령을 위해 SQL 문을 따로 변수에 넣어주고 cursor.execute(sql) 을 사용해 SQL를 실행한다.\n",
    "### 실행한 결과를 fetchall(), fetchone() 등으로 받아 온다.\n",
    "\n",
    "### **fetchall()** - 모든 데이터를 한 번에 가져올 때 사용\n",
    "### **fetchone()** - 한 번 호출에 하나의 행만 가져올 때 사용\n",
    "### **fetchmany(n)** - n개만큼의 데이터를 가져올 때 사용"
   ]
  },
  {
   "cell_type": "code",
   "execution_count": null,
   "metadata": {},
   "outputs": [],
   "source": [
    "import pymysql\n",
    "conn = pymysql.connect(host='multi-bigdata.cljkqcsbb9ok.ap-northeast-2.rds.amazonaws.com',port=3306,user='edu',passwd='edu', db='unicodb', cursorclass=pymysql.cursors.DictCursor)\n",
    "try:\n",
    "    cur = conn.cursor()\n",
    "    print(type(cur))\n",
    "    print(\"-----------------------\")\n",
    "    sql = 'SELECT * FROM emp'\n",
    "    cur.execute(sql)\n",
    "    result = cur.fetchall()\n",
    "    print(type(result))\n",
    "    print(result)\n",
    "    print(\"----------------------------------------------\")\n",
    "    print(type(result[0]))\n",
    "    print(result[0])\n",
    "    print(\"----------------------------------------------\")\n",
    "    print(len(result))\n",
    "    print(len(result[0]))\n",
    "    print(\"----------------------------------------------\")\n",
    "    for row in result:        \n",
    "        print(f'{row[\"empno\"]} {row[\"ename\"]} {row[\"job\"]} {row[\"mgr\"]} {row[\"hiredate\"]} {row[\"sal\"]} {row[\"comm\"]} {row[\"deptno\"]}')\n",
    "finally:\n",
    "    conn.close()"
   ]
  },
  {
   "cell_type": "code",
   "execution_count": null,
   "metadata": {},
   "outputs": [],
   "source": [
    "import pandas as pd"
   ]
  },
  {
   "cell_type": "code",
   "execution_count": null,
   "metadata": {},
   "outputs": [],
   "source": [
    "df = pd.DataFrame(result)\n",
    "df"
   ]
  },
  {
   "cell_type": "code",
   "execution_count": null,
   "metadata": {},
   "outputs": [],
   "source": [
    "import pymysql\n",
    "\n",
    "dbServerName    \t= \"multi-bigdata.cljkqcsbb9ok.ap-northeast-2.rds.amazonaws.com\"\n",
    "dbUser          \t= \"edu\"\n",
    "dbPassword      \t= \"edu\"\n",
    "dbName          \t= \"edudb\"\n",
    "charSet         \t= \"utf8\"\n",
    "cusrorType      \t= pymysql.cursors.DictCursor\n",
    "\n",
    "connectionObject   = pymysql.connect(host=dbServerName, user=dbUser, password=dbPassword,\n",
    "                                     db=dbName, charset=charSet,cursorclass=cusrorType)\n",
    "\n",
    "try:\n",
    "    cursorObject = connectionObject.cursor()                                     \n",
    "    sqlQuery = \"CREATE TABLE IF NOT EXISTS Employee(id int, LastName varchar(32), FirstName varchar(32), DepartmentCode int)\"   \n",
    "    cursorObject.execute(sqlQuery)\n",
    "    sqlQuery = \"show tables\"   \n",
    "    cursorObject.execute(sqlQuery)\n",
    "    rows = cursorObject.fetchall()\n",
    "    for row in rows:\n",
    "        print(row)\n",
    "\n",
    "    insertStatement = \"INSERT INTO Employee (id, LastName, FirstName, DepartmentCode) VALUES (1,'KIM','JUNGHYUN',10)\"   \n",
    "    cursorObject.execute(insertStatement)\n",
    "    insertStatement = \"INSERT INTO Employee (id, LastName, FirstName, DepartmentCode) VALUES (1,'GO','GILDONG',10)\"   \n",
    "    cursorObject.execute(insertStatement)\n",
    "    connectionObject.commit()\n",
    "\n",
    "    sqlQuery = \"select * from Employee\"   \n",
    "    cursorObject.execute(sqlQuery)\n",
    "    rows = cursorObject.fetchall()\n",
    "\n",
    "    for row in rows:\n",
    "        print(row)\n",
    "\n",
    "except Exception as e:\n",
    "    print(\"Exeception occured:{}\".format(e))\n",
    "finally:    \n",
    "    connectionObject.close()"
   ]
  },
  {
   "cell_type": "code",
   "execution_count": null,
   "metadata": {},
   "outputs": [],
   "source": [
    "import pymysql\n",
    "conn = pymysql.connect(host='multi-bigdata.cljkqcsbb9ok.ap-northeast-2.rds.amazonaws.com',port=3306,user='edu',passwd='edu', db='unicodb')\n",
    "try:\n",
    "    cur = conn.cursor()\n",
    "    sql = 'SELECT * FROM emp'\n",
    "    cur.execute(sql)\n",
    "    result = cur.fetchall()\n",
    "    print(result)\n",
    "    print(\"----------------------------------------------\")\n",
    "    sql = 'SELECT * FROM dept'\n",
    "    cur.execute(sql)\n",
    "    result = cur.fetchall()\n",
    "    print(result)\n",
    "    print(\"----------------------------------------------\")\n",
    "    sql = 'SELECT * FROM edudb.Employee'\n",
    "    cur.execute(sql)\n",
    "    result = cur.fetchall()\n",
    "    print(result)   \n",
    "finally:\n",
    "    conn.close()"
   ]
  },
  {
   "cell_type": "code",
   "execution_count": null,
   "metadata": {},
   "outputs": [],
   "source": [
    "# 교재 224 페이지 예제 시작\n",
    "import pymysql\n",
    "conn = pymysql.connect(host='multi-bigdata.cljkqcsbb9ok.ap-northeast-2.rds.amazonaws.com',port=3306,user='edu',passwd='edu', db='edudb')\n",
    "\n",
    "cur = conn.cursor()\n",
    "sql = 'SELECT * FROM dataset4'\n",
    "cur.execute(sql)\n",
    "result = cur.fetchone()\n",
    "print(result)"
   ]
  },
  {
   "cell_type": "code",
   "execution_count": null,
   "metadata": {},
   "outputs": [],
   "source": [
    "#sql = 'SELECT * FROM dataset4'\n",
    "#cur.execute(sql)\n",
    "alldata = cur.fetchall()\n",
    "print(alldata)"
   ]
  },
  {
   "cell_type": "code",
   "execution_count": null,
   "metadata": {},
   "outputs": [],
   "source": [
    "data = pd.read_sql_query(sql,conn)"
   ]
  },
  {
   "cell_type": "code",
   "execution_count": null,
   "metadata": {},
   "outputs": [],
   "source": [
    "data"
   ]
  },
  {
   "cell_type": "code",
   "execution_count": null,
   "metadata": {},
   "outputs": [],
   "source": [
    "data['Sex'] = [1 if x == 'female' else 0 for x in data['Sex']]"
   ]
  },
  {
   "cell_type": "code",
   "execution_count": null,
   "metadata": {},
   "outputs": [],
   "source": [
    "data"
   ]
  },
  {
   "cell_type": "code",
   "execution_count": null,
   "metadata": {},
   "outputs": [],
   "source": [
    "M = data.loc[:, ['Survived','Age','SibSp','Parch','Fare','Sex']]"
   ]
  },
  {
   "cell_type": "code",
   "execution_count": null,
   "metadata": {},
   "outputs": [],
   "source": [
    "M"
   ]
  },
  {
   "cell_type": "code",
   "execution_count": null,
   "metadata": {},
   "outputs": [],
   "source": [
    "M.corr()"
   ]
  },
  {
   "cell_type": "code",
   "execution_count": null,
   "metadata": {},
   "outputs": [],
   "source": [
    "import matplotlib.pyplot as plt \n",
    "import seaborn as sns  "
   ]
  },
  {
   "cell_type": "code",
   "execution_count": null,
   "metadata": {},
   "outputs": [],
   "source": [
    "plt.figure(figsize=(15,15))\n",
    "sns.heatmap(data = M.corr(), annot=True, \n",
    "fmt = '.2f', linewidths=.5, cmap='Blues')\n",
    "plt.show()"
   ]
  },
  {
   "cell_type": "code",
   "execution_count": null,
   "metadata": {},
   "outputs": [],
   "source": [
    "from matplotlib import font_manager, rc\n",
    "font_path = \"data/THEdog.ttf\"   #폰트파일의 위치\n",
    "font_name = font_manager.FontProperties(fname=font_path).get_name()\n",
    "rc('font', family=font_name)"
   ]
  },
  {
   "cell_type": "code",
   "execution_count": null,
   "metadata": {},
   "outputs": [],
   "source": [
    "plt.figure(figsize=(15,15))\n",
    "data1=data[data['Survived'] == 1]\n",
    "ax=sns.countplot(x='Sex',data=data1)\n",
    "ax.set_title(\"타이타닉호의 성별 생존자 수\", fontsize= 30)\n",
    "ax.set_xticklabels(['남성','여성'], fontsize=15)\n",
    "ax.set_xlabel('성별', fontsize= 20) \n",
    "ax.set_ylabel('생존자 수', fontsize= 20)  \n",
    "plt.show()"
   ]
  },
  {
   "cell_type": "code",
   "execution_count": null,
   "metadata": {},
   "outputs": [],
   "source": [
    "fig, ax = plt.subplots(1,2, figsize = (12, 8))\n",
    "\n",
    "sns.kdeplot(data[data['Survived'] == 0]['Age'], ax = ax[0])\n",
    "sns.kdeplot(data[data['Survived'] == 1]['Age'], ax = ax[1])\n",
    "plt.show()"
   ]
  },
  {
   "cell_type": "code",
   "execution_count": null,
   "metadata": {},
   "outputs": [],
   "source": [
    "fig, ax = plt.subplots(2,2, figsize = (12, 8))\n",
    "\n",
    "sns.kdeplot(data[(data['Survived'] == 1) & (data['Sex'] == 0)]['Age'], ax = ax[0,0])\n",
    "sns.kdeplot(data[(data['Survived'] == 0) & (data['Sex'] == 0)]['Age'], ax = ax[0,1])\n",
    "sns.kdeplot(data[(data['Survived'] == 1) & (data['Sex'] == 1)]['Age'], ax = ax[1,0])\n",
    "sns.kdeplot(data[(data['Survived'] == 0) & (data['Sex'] == 1)]['Age'], ax = ax[1,1])\n",
    "ax[0,0].set_title(\"여성의 나이별 생존자\")\n",
    "ax[0,1].set_title(\"여성의 나이별 사망자\")\n",
    "ax[1,0].set_title(\"남성의 나이별 생존자\")\n",
    "ax[1,1].set_title(\"남성의 나이별 사망자\")\n",
    "plt.show()"
   ]
  },
  {
   "cell_type": "code",
   "execution_count": null,
   "metadata": {},
   "outputs": [],
   "source": [
    "sql = 'SELECT Sex, count(*) cnt FROM dataset4 where Survived = 1.0 group by Sex'\n",
    "data = pd.read_sql_query(sql,conn)\n",
    "data"
   ]
  },
  {
   "cell_type": "code",
   "execution_count": null,
   "metadata": {},
   "outputs": [],
   "source": [
    "plt.figure(figsize=(15,15))\n",
    "ax=sns.barplot(data=data, x=\"Sex\", y= \"cnt\")\n",
    "ax.set_title(\"타이타닉호의 성별 생존자 수\", fontsize= 30)\n",
    "ax.set_xticklabels(['여성','남성'], fontsize=15)\n",
    "ax.set_xlabel('성별', fontsize= 20) \n",
    "ax.set_ylabel('생존자 수', fontsize= 20)  \n",
    "plt.show()"
   ]
  },
  {
   "cell_type": "code",
   "execution_count": null,
   "metadata": {},
   "outputs": [],
   "source": [
    "conn = pymysql.connect(host='multi-bigdata.cljkqcsbb9ok.ap-northeast-2.rds.amazonaws.com',port=3306,user='edu21',passwd='edu21', db='edudb')\n",
    "\n",
    "cur = conn.cursor()\n",
    "sql = 'SELECT * FROM dataset4'\n",
    "cur.execute(sql)\n",
    "result = cur.fetchone()\n",
    "print(result)"
   ]
  }
 ],
 "metadata": {
  "kernelspec": {
   "display_name": "pydatavenv",
   "language": "python",
   "name": "pydatavenv"
  },
  "language_info": {
   "codemirror_mode": {
    "name": "ipython",
    "version": 3
   },
   "file_extension": ".py",
   "mimetype": "text/x-python",
   "name": "python",
   "nbconvert_exporter": "python",
   "pygments_lexer": "ipython3",
   "version": "3.7.9"
  }
 },
 "nbformat": 4,
 "nbformat_minor": 4
}
